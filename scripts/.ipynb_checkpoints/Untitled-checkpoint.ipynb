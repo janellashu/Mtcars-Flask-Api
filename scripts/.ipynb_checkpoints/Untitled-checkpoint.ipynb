{
 "cells": [
  {
   "cell_type": "code",
   "execution_count": null,
   "metadata": {},
   "outputs": [],
   "source": [
    "import pandas as pd\n",
    "import numpy as np\n",
    "import matplotlib.pyplot as plt\n",
    "from scipy import stats\n",
    "from statsmodels.formula.api import ols\n",
    "#from statsmodels.stats.anova import anova_lm\n",
    "#import scipy"
   ]
  },
  {
   "cell_type": "code",
   "execution_count": null,
   "metadata": {},
   "outputs": [],
   "source": [
    "#A data frame with 32 observations on 11 (numeric) variables.\n",
    "#Mpg - Miles/(US) gallon, numerical\n",
    "#Cyl - Number of cylinders\n",
    "#Disp - Displacement (cu.in.), numerical\n",
    "#Hp - Gross horsepower, numerical\n",
    "#Drat - Rear axle ratio, numerical\n",
    "#Wt - Weight (1000 lbs), numerical\n",
    "#Qsec - 1/4 mile time, numerical\n",
    "#Vs - Engine (0 = V-shaped, 1 = straight)\n",
    "#Am - Transmission (0 = automatic, 1 = manual)\n",
    "#Gear - Number of forward gears\n",
    "#Carb - Number of carburetors\n",
    "\n",
    "data = pd.read_csv(\"../scripts/mtcars.csv\")\n",
    "data"
   ]
  },
  {
   "cell_type": "code",
   "execution_count": null,
   "metadata": {
    "scrolled": true
   },
   "outputs": [],
   "source": [
    "data.dtypes"
   ]
  },
  {
   "cell_type": "code",
   "execution_count": null,
   "metadata": {},
   "outputs": [],
   "source": [
    "##EDA##\n",
    "#correlation matrix\n",
    "data.corr()\n",
    "print(data.corr())\n",
    "pv = 0.01\n",
    "\n",
    "#t-test, numerical and numerical\n",
    "j = 0\n",
    "print('2 sample t-test, p-value <', pv, ':')\n",
    "\n",
    "while j < len(data.dtypes):\n",
    "    if (data.dtypes[j] == 'float64'):\n",
    "        test_vs = stats.ttest_ind(data.loc[data['vs']==1, [data.columns.values[j]]], data.loc[data['vs']==0, [data.columns.values[j]]])\n",
    "        test_am = stats.ttest_ind(data.loc[data['am']==1, [data.columns.values[j]]], data.loc[data['am']==0, [data.columns.values[j]]])\n",
    "        if test_vs.pvalue < pv:\n",
    "                print ('vs and ', data.columns.values[j], test_vs.pvalue)\n",
    "        else:\n",
    "             pass\n",
    "        if test_am.pvalue < pv:\n",
    "             print ('am and ', data.columns.values[j], test_am.pvalue)\n",
    "        else:\n",
    "            pass\n",
    "    else:\n",
    "        pass\n",
    "    j += 1\n",
    "\n",
    "#chi-sq test: categorical and categorical\n",
    "#stats.chi2_contingency(pd.crosstab(data['cyl'], data['am'], margins = False))\n",
    "j = 0\n",
    "print('\\n chi-square test, p-value <', pv, ':')\n",
    "while j < len(data.dtypes):\n",
    "    k = 1\n",
    "    while j+k < len(data.dtypes):\n",
    "        if data.dtypes[j] == 'int64' and data.dtypes[j+k] == 'int64':\n",
    "            test = stats.chi2_contingency(pd.crosstab(data[data.columns.values[j]], data[data.columns.values[j+k]], margins = False))\n",
    "            if test[1] < pv:\n",
    "                print (data.columns.values[j], ' and ', data.columns.values[j+k], test[1])\n",
    "            else:\n",
    "                pass\n",
    "        else:\n",
    "            pass\n",
    "        k += 1\n",
    "    j += 1\n",
    "\n",
    "#normally dist/transformation: Shapiro-Wilk (S-W) test\n",
    "j = 1\n",
    "print('\\n normality test, p-value <', pv, ': ')\n",
    "while j < len(data.dtypes):\n",
    "    test = stats.shapiro(data.iloc[:, j])[1]\n",
    "    if test < pv:\n",
    "        pass\n",
    "    else:\n",
    "        print(data.columns.values[j],'(',data.dtypes[j],')', test, 'transform?')\n",
    "    j += 1"
   ]
  },
  {
   "cell_type": "code",
   "execution_count": null,
   "metadata": {},
   "outputs": [],
   "source": [
    "data[['mpg']].hist()\n",
    "data[['drat']].hist()\n",
    "data[['wt']].hist()\n",
    "data[['qsec']].hist()"
   ]
  },
  {
   "cell_type": "code",
   "execution_count": null,
   "metadata": {},
   "outputs": [],
   "source": [
    "##model##\n",
    "data['vs'] = data['vs'].astype('category', copy = False)\n",
    "data['am'] = data['am'].astype('category', copy = False)\n",
    "\n",
    "mpg = data[['mpg']]\n",
    "data_x = data[['wt', 'qsec', 'am']]\n",
    "data_all = data[['mpg', 'wt', 'qsec', 'am']]\n",
    "\n",
    "model = ols('mpg ~ wt + qsec + am', data_all).fit()\n",
    "aov_table = anova_lm(model, typ=2)\n",
    "print(aov_table)\n",
    "\n",
    "##AIC##\n",
    "y_hat = model.predict()\n",
    "resid = data['mpg'] - y_hat\n",
    "sse = sum(resid**2)\n",
    "k = 3\n",
    "AIC = 2*k - 2*np.log(sse)\n",
    "#AIC\n",
    "#print(sse)"
   ]
  },
  {
   "cell_type": "code",
   "execution_count": null,
   "metadata": {},
   "outputs": [],
   "source": [
    "#lmm = LinearRegression()                                              \n",
    "#mpg = np.array(data['mpg'])                                           \n",
    "#wt = np.array(data['wt'])                                         \n",
    "#hp = np.array(data['hp'])\n",
    "#drat = np.array(data['drat'])\n",
    "#am = np.array(data['am'])\n",
    "#vs = np.array(data['vs'])\n",
    "\n",
    "\n",
    "#npc = np.column_stack((wt, hp, drat, am, vs))                          # Arrays connected into one frame\n",
    "#npcmt = np.matrix(npc)                                                # Connected array made into a matrix\n",
    "#lmFit = lmm.fit(npcmt, mpg)                                           # Fit created\n",
    "#print('Coefficients: \\n', lmFit.coef_, '    ', lmFit.intercept_)    # Coefficients shown\n",
    "\n",
    "##AIC\n",
    "#y_hat = lmFit.predict(npc)\n",
    "#resid = mpg - y_hat\n",
    "#sse = sum(resid**2)\n",
    "#sse\n",
    "#k= 5\n",
    "#AIC= 2*k - 2*np.log(sse)\n",
    "#AIC"
   ]
  },
  {
   "cell_type": "code",
   "execution_count": 1,
   "metadata": {},
   "outputs": [
    {
     "data": {
      "text/plain": [
       "16.584814720399223"
      ]
     },
     "execution_count": 1,
     "metadata": {},
     "output_type": "execute_result"
    }
   ],
   "source": [
    "####prediction.py#####\n",
    "import pandas as pd\n",
    "import statsmodels.formula.api as sm\n",
    "import numpy as np\n",
    "\n",
    "data = pd.read_csv(\"../scripts/mtcars.csv\")\n",
    "data['vs'] = data['vs'].astype('category', copy = False)\n",
    "data['am'] = data['am'].astype('category', copy = False)\n",
    "\n",
    "model = sm.ols('mpg ~ wt + qsec + am', data).fit()\n",
    "\n",
    "def predict(dict_values, model=model):\n",
    "    col_label = [\"wt\", \"qsec\", \"am\"]\n",
    "    x1 = [float(dict_values[col]) for col in col_label]\n",
    "    x = pd.DataFrame(x1, col_label).T\n",
    "    y_pred = float(model.predict(x))\n",
    "    return y_pred\n",
    "\n",
    "#to_predict = request.json\n",
    "col_label = [\"wt\", \"qsec\", \"am\"]\n",
    "\n",
    "test ={\"wt\":\"3.73\",\"qsec\":\"17.6\",\"am\":\"0\"}\n",
    "#test2 = [float(test[col]) for col in col_label]\n",
    "#test3 = pd.DataFrame(test2, col_label).T\n",
    "#test3\n",
    "#np.array([float(test[col]) for col in col_label])\n",
    "predict(test)"
   ]
  }
 ],
 "metadata": {
  "kernelspec": {
   "display_name": "Python 3",
   "language": "python",
   "name": "python3"
  },
  "language_info": {
   "codemirror_mode": {
    "name": "ipython",
    "version": 3
   },
   "file_extension": ".py",
   "mimetype": "text/x-python",
   "name": "python",
   "nbconvert_exporter": "python",
   "pygments_lexer": "ipython3",
   "version": "3.6.5"
  }
 },
 "nbformat": 4,
 "nbformat_minor": 2
}
